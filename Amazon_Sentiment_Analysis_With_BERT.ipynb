{
  "nbformat": 4,
  "nbformat_minor": 0,
  "metadata": {
    "colab": {
      "name": "Amazon Sentiment Analysis with bert.ipynb",
      "provenance": [],
      "collapsed_sections": [
        "F0n3ds3vRNx7"
      ]
    },
    "kernelspec": {
      "name": "python3",
      "display_name": "Python 3"
    },
    "language_info": {
      "name": "python"
    },
    "accelerator": "GPU",
    "widgets": {
      "application/vnd.jupyter.widget-state+json": {
        "a4150c4b331b4064b2cdd07aecc51837": {
          "model_module": "@jupyter-widgets/controls",
          "model_name": "HBoxModel",
          "state": {
            "_view_name": "HBoxView",
            "_dom_classes": [],
            "_model_name": "HBoxModel",
            "_view_module": "@jupyter-widgets/controls",
            "_model_module_version": "1.5.0",
            "_view_count": null,
            "_view_module_version": "1.5.0",
            "box_style": "",
            "layout": "IPY_MODEL_91919844c45242ce84f81fe6948d2a5a",
            "_model_module": "@jupyter-widgets/controls",
            "children": [
              "IPY_MODEL_b19de9096c5245f8a8334d717c50ed93",
              "IPY_MODEL_a9449ecd06db4c19bcf5f838e8587378"
            ]
          }
        },
        "91919844c45242ce84f81fe6948d2a5a": {
          "model_module": "@jupyter-widgets/base",
          "model_name": "LayoutModel",
          "state": {
            "_view_name": "LayoutView",
            "grid_template_rows": null,
            "right": null,
            "justify_content": null,
            "_view_module": "@jupyter-widgets/base",
            "overflow": null,
            "_model_module_version": "1.2.0",
            "_view_count": null,
            "flex_flow": null,
            "width": null,
            "min_width": null,
            "border": null,
            "align_items": null,
            "bottom": null,
            "_model_module": "@jupyter-widgets/base",
            "top": null,
            "grid_column": null,
            "overflow_y": null,
            "overflow_x": null,
            "grid_auto_flow": null,
            "grid_area": null,
            "grid_template_columns": null,
            "flex": null,
            "_model_name": "LayoutModel",
            "justify_items": null,
            "grid_row": null,
            "max_height": null,
            "align_content": null,
            "visibility": null,
            "align_self": null,
            "height": null,
            "min_height": null,
            "padding": null,
            "grid_auto_rows": null,
            "grid_gap": null,
            "max_width": null,
            "order": null,
            "_view_module_version": "1.2.0",
            "grid_template_areas": null,
            "object_position": null,
            "object_fit": null,
            "grid_auto_columns": null,
            "margin": null,
            "display": null,
            "left": null
          }
        },
        "b19de9096c5245f8a8334d717c50ed93": {
          "model_module": "@jupyter-widgets/controls",
          "model_name": "FloatProgressModel",
          "state": {
            "_view_name": "ProgressView",
            "style": "IPY_MODEL_7e94b195daba4b248d73ee9d830559bd",
            "_dom_classes": [],
            "description": "Downloading: 100%",
            "_model_name": "FloatProgressModel",
            "bar_style": "success",
            "max": 231508,
            "_view_module": "@jupyter-widgets/controls",
            "_model_module_version": "1.5.0",
            "value": 231508,
            "_view_count": null,
            "_view_module_version": "1.5.0",
            "orientation": "horizontal",
            "min": 0,
            "description_tooltip": null,
            "_model_module": "@jupyter-widgets/controls",
            "layout": "IPY_MODEL_5caa84ded1164f51bbe7bf96b0557dcb"
          }
        },
        "a9449ecd06db4c19bcf5f838e8587378": {
          "model_module": "@jupyter-widgets/controls",
          "model_name": "HTMLModel",
          "state": {
            "_view_name": "HTMLView",
            "style": "IPY_MODEL_d2308ea4938844098990f00b0f40f9d4",
            "_dom_classes": [],
            "description": "",
            "_model_name": "HTMLModel",
            "placeholder": "​",
            "_view_module": "@jupyter-widgets/controls",
            "_model_module_version": "1.5.0",
            "value": " 232k/232k [00:02&lt;00:00, 78.4kB/s]",
            "_view_count": null,
            "_view_module_version": "1.5.0",
            "description_tooltip": null,
            "_model_module": "@jupyter-widgets/controls",
            "layout": "IPY_MODEL_aaed51d3ae854c18941b7726fa44d568"
          }
        },
        "7e94b195daba4b248d73ee9d830559bd": {
          "model_module": "@jupyter-widgets/controls",
          "model_name": "ProgressStyleModel",
          "state": {
            "_view_name": "StyleView",
            "_model_name": "ProgressStyleModel",
            "description_width": "initial",
            "_view_module": "@jupyter-widgets/base",
            "_model_module_version": "1.5.0",
            "_view_count": null,
            "_view_module_version": "1.2.0",
            "bar_color": null,
            "_model_module": "@jupyter-widgets/controls"
          }
        },
        "5caa84ded1164f51bbe7bf96b0557dcb": {
          "model_module": "@jupyter-widgets/base",
          "model_name": "LayoutModel",
          "state": {
            "_view_name": "LayoutView",
            "grid_template_rows": null,
            "right": null,
            "justify_content": null,
            "_view_module": "@jupyter-widgets/base",
            "overflow": null,
            "_model_module_version": "1.2.0",
            "_view_count": null,
            "flex_flow": null,
            "width": null,
            "min_width": null,
            "border": null,
            "align_items": null,
            "bottom": null,
            "_model_module": "@jupyter-widgets/base",
            "top": null,
            "grid_column": null,
            "overflow_y": null,
            "overflow_x": null,
            "grid_auto_flow": null,
            "grid_area": null,
            "grid_template_columns": null,
            "flex": null,
            "_model_name": "LayoutModel",
            "justify_items": null,
            "grid_row": null,
            "max_height": null,
            "align_content": null,
            "visibility": null,
            "align_self": null,
            "height": null,
            "min_height": null,
            "padding": null,
            "grid_auto_rows": null,
            "grid_gap": null,
            "max_width": null,
            "order": null,
            "_view_module_version": "1.2.0",
            "grid_template_areas": null,
            "object_position": null,
            "object_fit": null,
            "grid_auto_columns": null,
            "margin": null,
            "display": null,
            "left": null
          }
        },
        "d2308ea4938844098990f00b0f40f9d4": {
          "model_module": "@jupyter-widgets/controls",
          "model_name": "DescriptionStyleModel",
          "state": {
            "_view_name": "StyleView",
            "_model_name": "DescriptionStyleModel",
            "description_width": "",
            "_view_module": "@jupyter-widgets/base",
            "_model_module_version": "1.5.0",
            "_view_count": null,
            "_view_module_version": "1.2.0",
            "_model_module": "@jupyter-widgets/controls"
          }
        },
        "aaed51d3ae854c18941b7726fa44d568": {
          "model_module": "@jupyter-widgets/base",
          "model_name": "LayoutModel",
          "state": {
            "_view_name": "LayoutView",
            "grid_template_rows": null,
            "right": null,
            "justify_content": null,
            "_view_module": "@jupyter-widgets/base",
            "overflow": null,
            "_model_module_version": "1.2.0",
            "_view_count": null,
            "flex_flow": null,
            "width": null,
            "min_width": null,
            "border": null,
            "align_items": null,
            "bottom": null,
            "_model_module": "@jupyter-widgets/base",
            "top": null,
            "grid_column": null,
            "overflow_y": null,
            "overflow_x": null,
            "grid_auto_flow": null,
            "grid_area": null,
            "grid_template_columns": null,
            "flex": null,
            "_model_name": "LayoutModel",
            "justify_items": null,
            "grid_row": null,
            "max_height": null,
            "align_content": null,
            "visibility": null,
            "align_self": null,
            "height": null,
            "min_height": null,
            "padding": null,
            "grid_auto_rows": null,
            "grid_gap": null,
            "max_width": null,
            "order": null,
            "_view_module_version": "1.2.0",
            "grid_template_areas": null,
            "object_position": null,
            "object_fit": null,
            "grid_auto_columns": null,
            "margin": null,
            "display": null,
            "left": null
          }
        },
        "dad0bb8f38c5437790c5ad116d973f48": {
          "model_module": "@jupyter-widgets/controls",
          "model_name": "HBoxModel",
          "state": {
            "_view_name": "HBoxView",
            "_dom_classes": [],
            "_model_name": "HBoxModel",
            "_view_module": "@jupyter-widgets/controls",
            "_model_module_version": "1.5.0",
            "_view_count": null,
            "_view_module_version": "1.5.0",
            "box_style": "",
            "layout": "IPY_MODEL_934eab7978874adcb5d8d9c86bdd6d4b",
            "_model_module": "@jupyter-widgets/controls",
            "children": [
              "IPY_MODEL_1ad720e48413410eac3f8d8cd4a2eb11",
              "IPY_MODEL_2008063a352a4196a40b4812a9f02a31"
            ]
          }
        },
        "934eab7978874adcb5d8d9c86bdd6d4b": {
          "model_module": "@jupyter-widgets/base",
          "model_name": "LayoutModel",
          "state": {
            "_view_name": "LayoutView",
            "grid_template_rows": null,
            "right": null,
            "justify_content": null,
            "_view_module": "@jupyter-widgets/base",
            "overflow": null,
            "_model_module_version": "1.2.0",
            "_view_count": null,
            "flex_flow": null,
            "width": null,
            "min_width": null,
            "border": null,
            "align_items": null,
            "bottom": null,
            "_model_module": "@jupyter-widgets/base",
            "top": null,
            "grid_column": null,
            "overflow_y": null,
            "overflow_x": null,
            "grid_auto_flow": null,
            "grid_area": null,
            "grid_template_columns": null,
            "flex": null,
            "_model_name": "LayoutModel",
            "justify_items": null,
            "grid_row": null,
            "max_height": null,
            "align_content": null,
            "visibility": null,
            "align_self": null,
            "height": null,
            "min_height": null,
            "padding": null,
            "grid_auto_rows": null,
            "grid_gap": null,
            "max_width": null,
            "order": null,
            "_view_module_version": "1.2.0",
            "grid_template_areas": null,
            "object_position": null,
            "object_fit": null,
            "grid_auto_columns": null,
            "margin": null,
            "display": null,
            "left": null
          }
        },
        "1ad720e48413410eac3f8d8cd4a2eb11": {
          "model_module": "@jupyter-widgets/controls",
          "model_name": "FloatProgressModel",
          "state": {
            "_view_name": "ProgressView",
            "style": "IPY_MODEL_a85d29a34f964196b43dab02840dd1d2",
            "_dom_classes": [],
            "description": "Downloading: 100%",
            "_model_name": "FloatProgressModel",
            "bar_style": "success",
            "max": 28,
            "_view_module": "@jupyter-widgets/controls",
            "_model_module_version": "1.5.0",
            "value": 28,
            "_view_count": null,
            "_view_module_version": "1.5.0",
            "orientation": "horizontal",
            "min": 0,
            "description_tooltip": null,
            "_model_module": "@jupyter-widgets/controls",
            "layout": "IPY_MODEL_6fb82066cefe4a3a8c151be69114bdbd"
          }
        },
        "2008063a352a4196a40b4812a9f02a31": {
          "model_module": "@jupyter-widgets/controls",
          "model_name": "HTMLModel",
          "state": {
            "_view_name": "HTMLView",
            "style": "IPY_MODEL_be426f137cbf43999aa65dea2d08ea48",
            "_dom_classes": [],
            "description": "",
            "_model_name": "HTMLModel",
            "placeholder": "​",
            "_view_module": "@jupyter-widgets/controls",
            "_model_module_version": "1.5.0",
            "value": " 28.0/28.0 [00:00&lt;00:00, 609B/s]",
            "_view_count": null,
            "_view_module_version": "1.5.0",
            "description_tooltip": null,
            "_model_module": "@jupyter-widgets/controls",
            "layout": "IPY_MODEL_5373b399a2a045e085ffe859185671b4"
          }
        },
        "a85d29a34f964196b43dab02840dd1d2": {
          "model_module": "@jupyter-widgets/controls",
          "model_name": "ProgressStyleModel",
          "state": {
            "_view_name": "StyleView",
            "_model_name": "ProgressStyleModel",
            "description_width": "initial",
            "_view_module": "@jupyter-widgets/base",
            "_model_module_version": "1.5.0",
            "_view_count": null,
            "_view_module_version": "1.2.0",
            "bar_color": null,
            "_model_module": "@jupyter-widgets/controls"
          }
        },
        "6fb82066cefe4a3a8c151be69114bdbd": {
          "model_module": "@jupyter-widgets/base",
          "model_name": "LayoutModel",
          "state": {
            "_view_name": "LayoutView",
            "grid_template_rows": null,
            "right": null,
            "justify_content": null,
            "_view_module": "@jupyter-widgets/base",
            "overflow": null,
            "_model_module_version": "1.2.0",
            "_view_count": null,
            "flex_flow": null,
            "width": null,
            "min_width": null,
            "border": null,
            "align_items": null,
            "bottom": null,
            "_model_module": "@jupyter-widgets/base",
            "top": null,
            "grid_column": null,
            "overflow_y": null,
            "overflow_x": null,
            "grid_auto_flow": null,
            "grid_area": null,
            "grid_template_columns": null,
            "flex": null,
            "_model_name": "LayoutModel",
            "justify_items": null,
            "grid_row": null,
            "max_height": null,
            "align_content": null,
            "visibility": null,
            "align_self": null,
            "height": null,
            "min_height": null,
            "padding": null,
            "grid_auto_rows": null,
            "grid_gap": null,
            "max_width": null,
            "order": null,
            "_view_module_version": "1.2.0",
            "grid_template_areas": null,
            "object_position": null,
            "object_fit": null,
            "grid_auto_columns": null,
            "margin": null,
            "display": null,
            "left": null
          }
        },
        "be426f137cbf43999aa65dea2d08ea48": {
          "model_module": "@jupyter-widgets/controls",
          "model_name": "DescriptionStyleModel",
          "state": {
            "_view_name": "StyleView",
            "_model_name": "DescriptionStyleModel",
            "description_width": "",
            "_view_module": "@jupyter-widgets/base",
            "_model_module_version": "1.5.0",
            "_view_count": null,
            "_view_module_version": "1.2.0",
            "_model_module": "@jupyter-widgets/controls"
          }
        },
        "5373b399a2a045e085ffe859185671b4": {
          "model_module": "@jupyter-widgets/base",
          "model_name": "LayoutModel",
          "state": {
            "_view_name": "LayoutView",
            "grid_template_rows": null,
            "right": null,
            "justify_content": null,
            "_view_module": "@jupyter-widgets/base",
            "overflow": null,
            "_model_module_version": "1.2.0",
            "_view_count": null,
            "flex_flow": null,
            "width": null,
            "min_width": null,
            "border": null,
            "align_items": null,
            "bottom": null,
            "_model_module": "@jupyter-widgets/base",
            "top": null,
            "grid_column": null,
            "overflow_y": null,
            "overflow_x": null,
            "grid_auto_flow": null,
            "grid_area": null,
            "grid_template_columns": null,
            "flex": null,
            "_model_name": "LayoutModel",
            "justify_items": null,
            "grid_row": null,
            "max_height": null,
            "align_content": null,
            "visibility": null,
            "align_self": null,
            "height": null,
            "min_height": null,
            "padding": null,
            "grid_auto_rows": null,
            "grid_gap": null,
            "max_width": null,
            "order": null,
            "_view_module_version": "1.2.0",
            "grid_template_areas": null,
            "object_position": null,
            "object_fit": null,
            "grid_auto_columns": null,
            "margin": null,
            "display": null,
            "left": null
          }
        },
        "c35813083ea7465185c6e032ea8bc243": {
          "model_module": "@jupyter-widgets/controls",
          "model_name": "HBoxModel",
          "state": {
            "_view_name": "HBoxView",
            "_dom_classes": [],
            "_model_name": "HBoxModel",
            "_view_module": "@jupyter-widgets/controls",
            "_model_module_version": "1.5.0",
            "_view_count": null,
            "_view_module_version": "1.5.0",
            "box_style": "",
            "layout": "IPY_MODEL_16ea82931aab46c4b13ced0f9715bab9",
            "_model_module": "@jupyter-widgets/controls",
            "children": [
              "IPY_MODEL_46ccde330e9843fbabc738dcc00d8951",
              "IPY_MODEL_a4389ec956964f79a22278e4c3428cda"
            ]
          }
        },
        "16ea82931aab46c4b13ced0f9715bab9": {
          "model_module": "@jupyter-widgets/base",
          "model_name": "LayoutModel",
          "state": {
            "_view_name": "LayoutView",
            "grid_template_rows": null,
            "right": null,
            "justify_content": null,
            "_view_module": "@jupyter-widgets/base",
            "overflow": null,
            "_model_module_version": "1.2.0",
            "_view_count": null,
            "flex_flow": null,
            "width": null,
            "min_width": null,
            "border": null,
            "align_items": null,
            "bottom": null,
            "_model_module": "@jupyter-widgets/base",
            "top": null,
            "grid_column": null,
            "overflow_y": null,
            "overflow_x": null,
            "grid_auto_flow": null,
            "grid_area": null,
            "grid_template_columns": null,
            "flex": null,
            "_model_name": "LayoutModel",
            "justify_items": null,
            "grid_row": null,
            "max_height": null,
            "align_content": null,
            "visibility": null,
            "align_self": null,
            "height": null,
            "min_height": null,
            "padding": null,
            "grid_auto_rows": null,
            "grid_gap": null,
            "max_width": null,
            "order": null,
            "_view_module_version": "1.2.0",
            "grid_template_areas": null,
            "object_position": null,
            "object_fit": null,
            "grid_auto_columns": null,
            "margin": null,
            "display": null,
            "left": null
          }
        },
        "46ccde330e9843fbabc738dcc00d8951": {
          "model_module": "@jupyter-widgets/controls",
          "model_name": "FloatProgressModel",
          "state": {
            "_view_name": "ProgressView",
            "style": "IPY_MODEL_67fbaf9c6cec434b97dc72145a78553e",
            "_dom_classes": [],
            "description": "Downloading: 100%",
            "_model_name": "FloatProgressModel",
            "bar_style": "success",
            "max": 466062,
            "_view_module": "@jupyter-widgets/controls",
            "_model_module_version": "1.5.0",
            "value": 466062,
            "_view_count": null,
            "_view_module_version": "1.5.0",
            "orientation": "horizontal",
            "min": 0,
            "description_tooltip": null,
            "_model_module": "@jupyter-widgets/controls",
            "layout": "IPY_MODEL_2705570cd3014602a38e1f44652490f4"
          }
        },
        "a4389ec956964f79a22278e4c3428cda": {
          "model_module": "@jupyter-widgets/controls",
          "model_name": "HTMLModel",
          "state": {
            "_view_name": "HTMLView",
            "style": "IPY_MODEL_19505d6ca9d747aabf1a84cc6035cfdc",
            "_dom_classes": [],
            "description": "",
            "_model_name": "HTMLModel",
            "placeholder": "​",
            "_view_module": "@jupyter-widgets/controls",
            "_model_module_version": "1.5.0",
            "value": " 466k/466k [00:00&lt;00:00, 498kB/s]",
            "_view_count": null,
            "_view_module_version": "1.5.0",
            "description_tooltip": null,
            "_model_module": "@jupyter-widgets/controls",
            "layout": "IPY_MODEL_cf581872a62b45c8bc52b08a8433d37f"
          }
        },
        "67fbaf9c6cec434b97dc72145a78553e": {
          "model_module": "@jupyter-widgets/controls",
          "model_name": "ProgressStyleModel",
          "state": {
            "_view_name": "StyleView",
            "_model_name": "ProgressStyleModel",
            "description_width": "initial",
            "_view_module": "@jupyter-widgets/base",
            "_model_module_version": "1.5.0",
            "_view_count": null,
            "_view_module_version": "1.2.0",
            "bar_color": null,
            "_model_module": "@jupyter-widgets/controls"
          }
        },
        "2705570cd3014602a38e1f44652490f4": {
          "model_module": "@jupyter-widgets/base",
          "model_name": "LayoutModel",
          "state": {
            "_view_name": "LayoutView",
            "grid_template_rows": null,
            "right": null,
            "justify_content": null,
            "_view_module": "@jupyter-widgets/base",
            "overflow": null,
            "_model_module_version": "1.2.0",
            "_view_count": null,
            "flex_flow": null,
            "width": null,
            "min_width": null,
            "border": null,
            "align_items": null,
            "bottom": null,
            "_model_module": "@jupyter-widgets/base",
            "top": null,
            "grid_column": null,
            "overflow_y": null,
            "overflow_x": null,
            "grid_auto_flow": null,
            "grid_area": null,
            "grid_template_columns": null,
            "flex": null,
            "_model_name": "LayoutModel",
            "justify_items": null,
            "grid_row": null,
            "max_height": null,
            "align_content": null,
            "visibility": null,
            "align_self": null,
            "height": null,
            "min_height": null,
            "padding": null,
            "grid_auto_rows": null,
            "grid_gap": null,
            "max_width": null,
            "order": null,
            "_view_module_version": "1.2.0",
            "grid_template_areas": null,
            "object_position": null,
            "object_fit": null,
            "grid_auto_columns": null,
            "margin": null,
            "display": null,
            "left": null
          }
        },
        "19505d6ca9d747aabf1a84cc6035cfdc": {
          "model_module": "@jupyter-widgets/controls",
          "model_name": "DescriptionStyleModel",
          "state": {
            "_view_name": "StyleView",
            "_model_name": "DescriptionStyleModel",
            "description_width": "",
            "_view_module": "@jupyter-widgets/base",
            "_model_module_version": "1.5.0",
            "_view_count": null,
            "_view_module_version": "1.2.0",
            "_model_module": "@jupyter-widgets/controls"
          }
        },
        "cf581872a62b45c8bc52b08a8433d37f": {
          "model_module": "@jupyter-widgets/base",
          "model_name": "LayoutModel",
          "state": {
            "_view_name": "LayoutView",
            "grid_template_rows": null,
            "right": null,
            "justify_content": null,
            "_view_module": "@jupyter-widgets/base",
            "overflow": null,
            "_model_module_version": "1.2.0",
            "_view_count": null,
            "flex_flow": null,
            "width": null,
            "min_width": null,
            "border": null,
            "align_items": null,
            "bottom": null,
            "_model_module": "@jupyter-widgets/base",
            "top": null,
            "grid_column": null,
            "overflow_y": null,
            "overflow_x": null,
            "grid_auto_flow": null,
            "grid_area": null,
            "grid_template_columns": null,
            "flex": null,
            "_model_name": "LayoutModel",
            "justify_items": null,
            "grid_row": null,
            "max_height": null,
            "align_content": null,
            "visibility": null,
            "align_self": null,
            "height": null,
            "min_height": null,
            "padding": null,
            "grid_auto_rows": null,
            "grid_gap": null,
            "max_width": null,
            "order": null,
            "_view_module_version": "1.2.0",
            "grid_template_areas": null,
            "object_position": null,
            "object_fit": null,
            "grid_auto_columns": null,
            "margin": null,
            "display": null,
            "left": null
          }
        },
        "5da5d268a8e44a34a00024f1fa4521a5": {
          "model_module": "@jupyter-widgets/controls",
          "model_name": "HBoxModel",
          "state": {
            "_view_name": "HBoxView",
            "_dom_classes": [],
            "_model_name": "HBoxModel",
            "_view_module": "@jupyter-widgets/controls",
            "_model_module_version": "1.5.0",
            "_view_count": null,
            "_view_module_version": "1.5.0",
            "box_style": "",
            "layout": "IPY_MODEL_20c27ee6f19d48a7b7b50556c7788487",
            "_model_module": "@jupyter-widgets/controls",
            "children": [
              "IPY_MODEL_3e08fa72a40d442f849b58974f52c108",
              "IPY_MODEL_421a7f0c357e4cae9c56280f3dc84a6c"
            ]
          }
        },
        "20c27ee6f19d48a7b7b50556c7788487": {
          "model_module": "@jupyter-widgets/base",
          "model_name": "LayoutModel",
          "state": {
            "_view_name": "LayoutView",
            "grid_template_rows": null,
            "right": null,
            "justify_content": null,
            "_view_module": "@jupyter-widgets/base",
            "overflow": null,
            "_model_module_version": "1.2.0",
            "_view_count": null,
            "flex_flow": null,
            "width": null,
            "min_width": null,
            "border": null,
            "align_items": null,
            "bottom": null,
            "_model_module": "@jupyter-widgets/base",
            "top": null,
            "grid_column": null,
            "overflow_y": null,
            "overflow_x": null,
            "grid_auto_flow": null,
            "grid_area": null,
            "grid_template_columns": null,
            "flex": null,
            "_model_name": "LayoutModel",
            "justify_items": null,
            "grid_row": null,
            "max_height": null,
            "align_content": null,
            "visibility": null,
            "align_self": null,
            "height": null,
            "min_height": null,
            "padding": null,
            "grid_auto_rows": null,
            "grid_gap": null,
            "max_width": null,
            "order": null,
            "_view_module_version": "1.2.0",
            "grid_template_areas": null,
            "object_position": null,
            "object_fit": null,
            "grid_auto_columns": null,
            "margin": null,
            "display": null,
            "left": null
          }
        },
        "3e08fa72a40d442f849b58974f52c108": {
          "model_module": "@jupyter-widgets/controls",
          "model_name": "FloatProgressModel",
          "state": {
            "_view_name": "ProgressView",
            "style": "IPY_MODEL_86714563db104a71829539e76fc01fe7",
            "_dom_classes": [],
            "description": "Downloading: 100%",
            "_model_name": "FloatProgressModel",
            "bar_style": "success",
            "max": 571,
            "_view_module": "@jupyter-widgets/controls",
            "_model_module_version": "1.5.0",
            "value": 571,
            "_view_count": null,
            "_view_module_version": "1.5.0",
            "orientation": "horizontal",
            "min": 0,
            "description_tooltip": null,
            "_model_module": "@jupyter-widgets/controls",
            "layout": "IPY_MODEL_3e8f16d3eda84be1a8f5c4911215ad0a"
          }
        },
        "421a7f0c357e4cae9c56280f3dc84a6c": {
          "model_module": "@jupyter-widgets/controls",
          "model_name": "HTMLModel",
          "state": {
            "_view_name": "HTMLView",
            "style": "IPY_MODEL_f141c1a5048944cd9cd17b80e982a89a",
            "_dom_classes": [],
            "description": "",
            "_model_name": "HTMLModel",
            "placeholder": "​",
            "_view_module": "@jupyter-widgets/controls",
            "_model_module_version": "1.5.0",
            "value": " 571/571 [00:28&lt;00:00, 19.7B/s]",
            "_view_count": null,
            "_view_module_version": "1.5.0",
            "description_tooltip": null,
            "_model_module": "@jupyter-widgets/controls",
            "layout": "IPY_MODEL_fb199d0ec27c409e9e130e56ce047067"
          }
        },
        "86714563db104a71829539e76fc01fe7": {
          "model_module": "@jupyter-widgets/controls",
          "model_name": "ProgressStyleModel",
          "state": {
            "_view_name": "StyleView",
            "_model_name": "ProgressStyleModel",
            "description_width": "initial",
            "_view_module": "@jupyter-widgets/base",
            "_model_module_version": "1.5.0",
            "_view_count": null,
            "_view_module_version": "1.2.0",
            "bar_color": null,
            "_model_module": "@jupyter-widgets/controls"
          }
        },
        "3e8f16d3eda84be1a8f5c4911215ad0a": {
          "model_module": "@jupyter-widgets/base",
          "model_name": "LayoutModel",
          "state": {
            "_view_name": "LayoutView",
            "grid_template_rows": null,
            "right": null,
            "justify_content": null,
            "_view_module": "@jupyter-widgets/base",
            "overflow": null,
            "_model_module_version": "1.2.0",
            "_view_count": null,
            "flex_flow": null,
            "width": null,
            "min_width": null,
            "border": null,
            "align_items": null,
            "bottom": null,
            "_model_module": "@jupyter-widgets/base",
            "top": null,
            "grid_column": null,
            "overflow_y": null,
            "overflow_x": null,
            "grid_auto_flow": null,
            "grid_area": null,
            "grid_template_columns": null,
            "flex": null,
            "_model_name": "LayoutModel",
            "justify_items": null,
            "grid_row": null,
            "max_height": null,
            "align_content": null,
            "visibility": null,
            "align_self": null,
            "height": null,
            "min_height": null,
            "padding": null,
            "grid_auto_rows": null,
            "grid_gap": null,
            "max_width": null,
            "order": null,
            "_view_module_version": "1.2.0",
            "grid_template_areas": null,
            "object_position": null,
            "object_fit": null,
            "grid_auto_columns": null,
            "margin": null,
            "display": null,
            "left": null
          }
        },
        "f141c1a5048944cd9cd17b80e982a89a": {
          "model_module": "@jupyter-widgets/controls",
          "model_name": "DescriptionStyleModel",
          "state": {
            "_view_name": "StyleView",
            "_model_name": "DescriptionStyleModel",
            "description_width": "",
            "_view_module": "@jupyter-widgets/base",
            "_model_module_version": "1.5.0",
            "_view_count": null,
            "_view_module_version": "1.2.0",
            "_model_module": "@jupyter-widgets/controls"
          }
        },
        "fb199d0ec27c409e9e130e56ce047067": {
          "model_module": "@jupyter-widgets/base",
          "model_name": "LayoutModel",
          "state": {
            "_view_name": "LayoutView",
            "grid_template_rows": null,
            "right": null,
            "justify_content": null,
            "_view_module": "@jupyter-widgets/base",
            "overflow": null,
            "_model_module_version": "1.2.0",
            "_view_count": null,
            "flex_flow": null,
            "width": null,
            "min_width": null,
            "border": null,
            "align_items": null,
            "bottom": null,
            "_model_module": "@jupyter-widgets/base",
            "top": null,
            "grid_column": null,
            "overflow_y": null,
            "overflow_x": null,
            "grid_auto_flow": null,
            "grid_area": null,
            "grid_template_columns": null,
            "flex": null,
            "_model_name": "LayoutModel",
            "justify_items": null,
            "grid_row": null,
            "max_height": null,
            "align_content": null,
            "visibility": null,
            "align_self": null,
            "height": null,
            "min_height": null,
            "padding": null,
            "grid_auto_rows": null,
            "grid_gap": null,
            "max_width": null,
            "order": null,
            "_view_module_version": "1.2.0",
            "grid_template_areas": null,
            "object_position": null,
            "object_fit": null,
            "grid_auto_columns": null,
            "margin": null,
            "display": null,
            "left": null
          }
        },
        "d23380becba24cf1950969206fe7f26f": {
          "model_module": "@jupyter-widgets/controls",
          "model_name": "HBoxModel",
          "state": {
            "_view_name": "HBoxView",
            "_dom_classes": [],
            "_model_name": "HBoxModel",
            "_view_module": "@jupyter-widgets/controls",
            "_model_module_version": "1.5.0",
            "_view_count": null,
            "_view_module_version": "1.5.0",
            "box_style": "",
            "layout": "IPY_MODEL_4401df9697ce48feaaa7cd6227b0a450",
            "_model_module": "@jupyter-widgets/controls",
            "children": [
              "IPY_MODEL_c5ae233dffe24c629f2d8721b9a65a4c",
              "IPY_MODEL_b8f58aa6e7184725960e585a7fbb9f1e"
            ]
          }
        },
        "4401df9697ce48feaaa7cd6227b0a450": {
          "model_module": "@jupyter-widgets/base",
          "model_name": "LayoutModel",
          "state": {
            "_view_name": "LayoutView",
            "grid_template_rows": null,
            "right": null,
            "justify_content": null,
            "_view_module": "@jupyter-widgets/base",
            "overflow": null,
            "_model_module_version": "1.2.0",
            "_view_count": null,
            "flex_flow": null,
            "width": null,
            "min_width": null,
            "border": null,
            "align_items": null,
            "bottom": null,
            "_model_module": "@jupyter-widgets/base",
            "top": null,
            "grid_column": null,
            "overflow_y": null,
            "overflow_x": null,
            "grid_auto_flow": null,
            "grid_area": null,
            "grid_template_columns": null,
            "flex": null,
            "_model_name": "LayoutModel",
            "justify_items": null,
            "grid_row": null,
            "max_height": null,
            "align_content": null,
            "visibility": null,
            "align_self": null,
            "height": null,
            "min_height": null,
            "padding": null,
            "grid_auto_rows": null,
            "grid_gap": null,
            "max_width": null,
            "order": null,
            "_view_module_version": "1.2.0",
            "grid_template_areas": null,
            "object_position": null,
            "object_fit": null,
            "grid_auto_columns": null,
            "margin": null,
            "display": null,
            "left": null
          }
        },
        "c5ae233dffe24c629f2d8721b9a65a4c": {
          "model_module": "@jupyter-widgets/controls",
          "model_name": "FloatProgressModel",
          "state": {
            "_view_name": "ProgressView",
            "style": "IPY_MODEL_193182b1e41e4d0dbded01a7630332b2",
            "_dom_classes": [],
            "description": "Downloading: 100%",
            "_model_name": "FloatProgressModel",
            "bar_style": "success",
            "max": 1344997306,
            "_view_module": "@jupyter-widgets/controls",
            "_model_module_version": "1.5.0",
            "value": 1344997306,
            "_view_count": null,
            "_view_module_version": "1.5.0",
            "orientation": "horizontal",
            "min": 0,
            "description_tooltip": null,
            "_model_module": "@jupyter-widgets/controls",
            "layout": "IPY_MODEL_b99751e487004347b5a22526c61a42f5"
          }
        },
        "b8f58aa6e7184725960e585a7fbb9f1e": {
          "model_module": "@jupyter-widgets/controls",
          "model_name": "HTMLModel",
          "state": {
            "_view_name": "HTMLView",
            "style": "IPY_MODEL_87369fa47ac143309657b346ae83278f",
            "_dom_classes": [],
            "description": "",
            "_model_name": "HTMLModel",
            "placeholder": "​",
            "_view_module": "@jupyter-widgets/controls",
            "_model_module_version": "1.5.0",
            "value": " 1.34G/1.34G [00:38&lt;00:00, 35.1MB/s]",
            "_view_count": null,
            "_view_module_version": "1.5.0",
            "description_tooltip": null,
            "_model_module": "@jupyter-widgets/controls",
            "layout": "IPY_MODEL_bcddd2975028436ca81592db7e1c4aa1"
          }
        },
        "193182b1e41e4d0dbded01a7630332b2": {
          "model_module": "@jupyter-widgets/controls",
          "model_name": "ProgressStyleModel",
          "state": {
            "_view_name": "StyleView",
            "_model_name": "ProgressStyleModel",
            "description_width": "initial",
            "_view_module": "@jupyter-widgets/base",
            "_model_module_version": "1.5.0",
            "_view_count": null,
            "_view_module_version": "1.2.0",
            "bar_color": null,
            "_model_module": "@jupyter-widgets/controls"
          }
        },
        "b99751e487004347b5a22526c61a42f5": {
          "model_module": "@jupyter-widgets/base",
          "model_name": "LayoutModel",
          "state": {
            "_view_name": "LayoutView",
            "grid_template_rows": null,
            "right": null,
            "justify_content": null,
            "_view_module": "@jupyter-widgets/base",
            "overflow": null,
            "_model_module_version": "1.2.0",
            "_view_count": null,
            "flex_flow": null,
            "width": null,
            "min_width": null,
            "border": null,
            "align_items": null,
            "bottom": null,
            "_model_module": "@jupyter-widgets/base",
            "top": null,
            "grid_column": null,
            "overflow_y": null,
            "overflow_x": null,
            "grid_auto_flow": null,
            "grid_area": null,
            "grid_template_columns": null,
            "flex": null,
            "_model_name": "LayoutModel",
            "justify_items": null,
            "grid_row": null,
            "max_height": null,
            "align_content": null,
            "visibility": null,
            "align_self": null,
            "height": null,
            "min_height": null,
            "padding": null,
            "grid_auto_rows": null,
            "grid_gap": null,
            "max_width": null,
            "order": null,
            "_view_module_version": "1.2.0",
            "grid_template_areas": null,
            "object_position": null,
            "object_fit": null,
            "grid_auto_columns": null,
            "margin": null,
            "display": null,
            "left": null
          }
        },
        "87369fa47ac143309657b346ae83278f": {
          "model_module": "@jupyter-widgets/controls",
          "model_name": "DescriptionStyleModel",
          "state": {
            "_view_name": "StyleView",
            "_model_name": "DescriptionStyleModel",
            "description_width": "",
            "_view_module": "@jupyter-widgets/base",
            "_model_module_version": "1.5.0",
            "_view_count": null,
            "_view_module_version": "1.2.0",
            "_model_module": "@jupyter-widgets/controls"
          }
        },
        "bcddd2975028436ca81592db7e1c4aa1": {
          "model_module": "@jupyter-widgets/base",
          "model_name": "LayoutModel",
          "state": {
            "_view_name": "LayoutView",
            "grid_template_rows": null,
            "right": null,
            "justify_content": null,
            "_view_module": "@jupyter-widgets/base",
            "overflow": null,
            "_model_module_version": "1.2.0",
            "_view_count": null,
            "flex_flow": null,
            "width": null,
            "min_width": null,
            "border": null,
            "align_items": null,
            "bottom": null,
            "_model_module": "@jupyter-widgets/base",
            "top": null,
            "grid_column": null,
            "overflow_y": null,
            "overflow_x": null,
            "grid_auto_flow": null,
            "grid_area": null,
            "grid_template_columns": null,
            "flex": null,
            "_model_name": "LayoutModel",
            "justify_items": null,
            "grid_row": null,
            "max_height": null,
            "align_content": null,
            "visibility": null,
            "align_self": null,
            "height": null,
            "min_height": null,
            "padding": null,
            "grid_auto_rows": null,
            "grid_gap": null,
            "max_width": null,
            "order": null,
            "_view_module_version": "1.2.0",
            "grid_template_areas": null,
            "object_position": null,
            "object_fit": null,
            "grid_auto_columns": null,
            "margin": null,
            "display": null,
            "left": null
          }
        }
      }
    }
  },
  "cells": [
    {
      "cell_type": "code",
      "metadata": {
        "colab": {
          "base_uri": "https://localhost:8080/"
        },
        "id": "AyGN5ZfunhCb",
        "outputId": "1e4852c7-07f8-4807-c7ad-248bbcd96b5f"
      },
      "source": [
        "pip install transformers"
      ],
      "execution_count": null,
      "outputs": [
        {
          "output_type": "stream",
          "text": [
            "Requirement already satisfied: transformers in /usr/local/lib/python3.7/dist-packages (4.5.1)\n",
            "Requirement already satisfied: regex!=2019.12.17 in /usr/local/lib/python3.7/dist-packages (from transformers) (2019.12.20)\n",
            "Requirement already satisfied: importlib-metadata; python_version < \"3.8\" in /usr/local/lib/python3.7/dist-packages (from transformers) (3.10.1)\n",
            "Requirement already satisfied: packaging in /usr/local/lib/python3.7/dist-packages (from transformers) (20.9)\n",
            "Requirement already satisfied: sacremoses in /usr/local/lib/python3.7/dist-packages (from transformers) (0.0.45)\n",
            "Requirement already satisfied: tokenizers<0.11,>=0.10.1 in /usr/local/lib/python3.7/dist-packages (from transformers) (0.10.2)\n",
            "Requirement already satisfied: filelock in /usr/local/lib/python3.7/dist-packages (from transformers) (3.0.12)\n",
            "Requirement already satisfied: requests in /usr/local/lib/python3.7/dist-packages (from transformers) (2.23.0)\n",
            "Requirement already satisfied: numpy>=1.17 in /usr/local/lib/python3.7/dist-packages (from transformers) (1.19.5)\n",
            "Requirement already satisfied: tqdm>=4.27 in /usr/local/lib/python3.7/dist-packages (from transformers) (4.41.1)\n",
            "Requirement already satisfied: typing-extensions>=3.6.4; python_version < \"3.8\" in /usr/local/lib/python3.7/dist-packages (from importlib-metadata; python_version < \"3.8\"->transformers) (3.7.4.3)\n",
            "Requirement already satisfied: zipp>=0.5 in /usr/local/lib/python3.7/dist-packages (from importlib-metadata; python_version < \"3.8\"->transformers) (3.4.1)\n",
            "Requirement already satisfied: pyparsing>=2.0.2 in /usr/local/lib/python3.7/dist-packages (from packaging->transformers) (2.4.7)\n",
            "Requirement already satisfied: six in /usr/local/lib/python3.7/dist-packages (from sacremoses->transformers) (1.15.0)\n",
            "Requirement already satisfied: joblib in /usr/local/lib/python3.7/dist-packages (from sacremoses->transformers) (1.0.1)\n",
            "Requirement already satisfied: click in /usr/local/lib/python3.7/dist-packages (from sacremoses->transformers) (7.1.2)\n",
            "Requirement already satisfied: urllib3!=1.25.0,!=1.25.1,<1.26,>=1.21.1 in /usr/local/lib/python3.7/dist-packages (from requests->transformers) (1.24.3)\n",
            "Requirement already satisfied: chardet<4,>=3.0.2 in /usr/local/lib/python3.7/dist-packages (from requests->transformers) (3.0.4)\n",
            "Requirement already satisfied: idna<3,>=2.5 in /usr/local/lib/python3.7/dist-packages (from requests->transformers) (2.10)\n",
            "Requirement already satisfied: certifi>=2017.4.17 in /usr/local/lib/python3.7/dist-packages (from requests->transformers) (2020.12.5)\n"
          ],
          "name": "stdout"
        }
      ]
    },
    {
      "cell_type": "code",
      "metadata": {
        "id": "5vhFzpbYn2BY"
      },
      "source": [
        "import numpy as np\n",
        "import pandas as pd\n",
        "from sklearn.model_selection import train_test_split\n",
        "from sklearn.linear_model import LogisticRegression\n",
        "from sklearn.model_selection import GridSearchCV\n",
        "from sklearn.model_selection import cross_val_score\n",
        "from sklearn.metrics import f1_score\n",
        "from sklearn.metrics import recall_score\n",
        "from sklearn.metrics import precision_score\n",
        "import torch\n",
        "import transformers as ppb\n",
        "import warnings\n",
        "warnings.filterwarnings('ignore')"
      ],
      "execution_count": null,
      "outputs": []
    },
    {
      "cell_type": "code",
      "metadata": {
        "id": "NtSwqLjCn5W3"
      },
      "source": [
        "df = pd.read_csv('https://raw.githubusercontent.com/bdburak/AmazonReviewSentimentAnalysis/bdburak-patch-1/techNew.tsv', delimiter='\\t', header=None,encoding='latin-1')"
      ],
      "execution_count": null,
      "outputs": []
    },
    {
      "cell_type": "code",
      "metadata": {
        "id": "5hm_uCTiqoyO"
      },
      "source": [
        "batch1 = df[:2000]"
      ],
      "execution_count": null,
      "outputs": []
    },
    {
      "cell_type": "code",
      "metadata": {
        "colab": {
          "base_uri": "https://localhost:8080/"
        },
        "id": "pwXLSIezs-3-",
        "outputId": "38ed761d-ad29-413c-90bf-b12c599e822b"
      },
      "source": [
        "batch1[1].value_counts()"
      ],
      "execution_count": null,
      "outputs": [
        {
          "output_type": "execute_result",
          "data": {
            "text/plain": [
              "1    838\n",
              "0    838\n",
              "Name: 1, dtype: int64"
            ]
          },
          "metadata": {
            "tags": []
          },
          "execution_count": 74
        }
      ]
    },
    {
      "cell_type": "code",
      "metadata": {
        "id": "ujcQlgdMogWX",
        "colab": {
          "base_uri": "https://localhost:8080/",
          "height": 262,
          "referenced_widgets": [
            "a4150c4b331b4064b2cdd07aecc51837",
            "91919844c45242ce84f81fe6948d2a5a",
            "b19de9096c5245f8a8334d717c50ed93",
            "a9449ecd06db4c19bcf5f838e8587378",
            "7e94b195daba4b248d73ee9d830559bd",
            "5caa84ded1164f51bbe7bf96b0557dcb",
            "d2308ea4938844098990f00b0f40f9d4",
            "aaed51d3ae854c18941b7726fa44d568",
            "dad0bb8f38c5437790c5ad116d973f48",
            "934eab7978874adcb5d8d9c86bdd6d4b",
            "1ad720e48413410eac3f8d8cd4a2eb11",
            "2008063a352a4196a40b4812a9f02a31",
            "a85d29a34f964196b43dab02840dd1d2",
            "6fb82066cefe4a3a8c151be69114bdbd",
            "be426f137cbf43999aa65dea2d08ea48",
            "5373b399a2a045e085ffe859185671b4",
            "c35813083ea7465185c6e032ea8bc243",
            "16ea82931aab46c4b13ced0f9715bab9",
            "46ccde330e9843fbabc738dcc00d8951",
            "a4389ec956964f79a22278e4c3428cda",
            "67fbaf9c6cec434b97dc72145a78553e",
            "2705570cd3014602a38e1f44652490f4",
            "19505d6ca9d747aabf1a84cc6035cfdc",
            "cf581872a62b45c8bc52b08a8433d37f",
            "5da5d268a8e44a34a00024f1fa4521a5",
            "20c27ee6f19d48a7b7b50556c7788487",
            "3e08fa72a40d442f849b58974f52c108",
            "421a7f0c357e4cae9c56280f3dc84a6c",
            "86714563db104a71829539e76fc01fe7",
            "3e8f16d3eda84be1a8f5c4911215ad0a",
            "f141c1a5048944cd9cd17b80e982a89a",
            "fb199d0ec27c409e9e130e56ce047067",
            "d23380becba24cf1950969206fe7f26f",
            "4401df9697ce48feaaa7cd6227b0a450",
            "c5ae233dffe24c629f2d8721b9a65a4c",
            "b8f58aa6e7184725960e585a7fbb9f1e",
            "193182b1e41e4d0dbded01a7630332b2",
            "b99751e487004347b5a22526c61a42f5",
            "87369fa47ac143309657b346ae83278f",
            "bcddd2975028436ca81592db7e1c4aa1"
          ]
        },
        "outputId": "da6dcdac-bda5-4ad4-df8d-67e22713cdc3"
      },
      "source": [
        "model_class, tokenizer_class, pretrained_weights = (ppb.BertModel, ppb.BertTokenizer, 'bert-base-uncased')\n",
        "# Load pretrained model/tokenizer\n",
        "tokenizer = tokenizer_class.from_pretrained(pretrained_weights)\n",
        "model = model_class.from_pretrained(pretrained_weights)"
      ],
      "execution_count": null,
      "outputs": [
        {
          "output_type": "display_data",
          "data": {
            "application/vnd.jupyter.widget-view+json": {
              "model_id": "a4150c4b331b4064b2cdd07aecc51837",
              "version_minor": 0,
              "version_major": 2
            },
            "text/plain": [
              "HBox(children=(FloatProgress(value=0.0, description='Downloading', max=231508.0, style=ProgressStyle(descripti…"
            ]
          },
          "metadata": {
            "tags": []
          }
        },
        {
          "output_type": "stream",
          "text": [
            "\n"
          ],
          "name": "stdout"
        },
        {
          "output_type": "display_data",
          "data": {
            "application/vnd.jupyter.widget-view+json": {
              "model_id": "dad0bb8f38c5437790c5ad116d973f48",
              "version_minor": 0,
              "version_major": 2
            },
            "text/plain": [
              "HBox(children=(FloatProgress(value=0.0, description='Downloading', max=28.0, style=ProgressStyle(description_w…"
            ]
          },
          "metadata": {
            "tags": []
          }
        },
        {
          "output_type": "stream",
          "text": [
            "\n"
          ],
          "name": "stdout"
        },
        {
          "output_type": "display_data",
          "data": {
            "application/vnd.jupyter.widget-view+json": {
              "model_id": "c35813083ea7465185c6e032ea8bc243",
              "version_minor": 0,
              "version_major": 2
            },
            "text/plain": [
              "HBox(children=(FloatProgress(value=0.0, description='Downloading', max=466062.0, style=ProgressStyle(descripti…"
            ]
          },
          "metadata": {
            "tags": []
          }
        },
        {
          "output_type": "stream",
          "text": [
            "\n"
          ],
          "name": "stdout"
        },
        {
          "output_type": "display_data",
          "data": {
            "application/vnd.jupyter.widget-view+json": {
              "model_id": "5da5d268a8e44a34a00024f1fa4521a5",
              "version_minor": 0,
              "version_major": 2
            },
            "text/plain": [
              "HBox(children=(FloatProgress(value=0.0, description='Downloading', max=571.0, style=ProgressStyle(description_…"
            ]
          },
          "metadata": {
            "tags": []
          }
        },
        {
          "output_type": "stream",
          "text": [
            "\n"
          ],
          "name": "stdout"
        },
        {
          "output_type": "display_data",
          "data": {
            "application/vnd.jupyter.widget-view+json": {
              "model_id": "d23380becba24cf1950969206fe7f26f",
              "version_minor": 0,
              "version_major": 2
            },
            "text/plain": [
              "HBox(children=(FloatProgress(value=0.0, description='Downloading', max=1344997306.0, style=ProgressStyle(descr…"
            ]
          },
          "metadata": {
            "tags": []
          }
        },
        {
          "output_type": "stream",
          "text": [
            "\n"
          ],
          "name": "stdout"
        }
      ]
    },
    {
      "cell_type": "code",
      "metadata": {
        "id": "t1wyLpf9s1An"
      },
      "source": [
        "tokenized = batch1[0].apply((lambda x: tokenizer.encode(x, add_special_tokens=True)))"
      ],
      "execution_count": null,
      "outputs": []
    },
    {
      "cell_type": "code",
      "metadata": {
        "colab": {
          "base_uri": "https://localhost:8080/"
        },
        "id": "2IRoJ5qxzT3T",
        "outputId": "3dfdb6bf-a7b2-458b-815a-6ac95c88b2dd"
      },
      "source": [
        "print(tokenized)"
      ],
      "execution_count": null,
      "outputs": [
        {
          "output_type": "stream",
          "text": [
            "0       [101, 1045, 2363, 2026, 9803, 17273, 14905, 17...\n",
            "1       [101, 2023, 4003, 2003, 2107, 1037, 10520, 101...\n",
            "2       [101, 2025, 2004, 3733, 2000, 2224, 2004, 1037...\n",
            "3       [101, 2004, 1996, 2060, 12027, 2179, 2041, 101...\n",
            "4       [101, 2023, 2003, 3819, 2005, 2026, 26322, 199...\n",
            "                              ...                        \n",
            "1671    [101, 2023, 2003, 1037, 3835, 2559, 2829, 1292...\n",
            "1672    [101, 2200, 14044, 1998, 3733, 2005, 3087, 200...\n",
            "1673    [101, 2023, 2003, 1037, 2204, 3715, 2099, 1011...\n",
            "1674    [101, 2256, 2034, 3325, 2007, 1037, 6636, 6839...\n",
            "1675    [101, 3532, 3579, 1010, 14819, 2854, 1010, 964...\n",
            "Name: 0, Length: 1676, dtype: object\n"
          ],
          "name": "stdout"
        }
      ]
    },
    {
      "cell_type": "code",
      "metadata": {
        "id": "n9ZLEa_vrMiP"
      },
      "source": [
        "max_len = 0\n",
        "for i in tokenized.values:\n",
        "    if len(i) > max_len:\n",
        "        max_len = len(i)\n",
        "\n",
        "padded = np.array([i + [0]*(max_len-len(i)) for i in tokenized.values])"
      ],
      "execution_count": null,
      "outputs": []
    },
    {
      "cell_type": "code",
      "metadata": {
        "colab": {
          "base_uri": "https://localhost:8080/"
        },
        "id": "1Np-K_4irP6e",
        "outputId": "dfd880e3-cd6c-422a-852b-43b2c20da78c"
      },
      "source": [
        "np.array(padded).shape"
      ],
      "execution_count": null,
      "outputs": [
        {
          "output_type": "execute_result",
          "data": {
            "text/plain": [
              "(1676, 66)"
            ]
          },
          "metadata": {
            "tags": []
          },
          "execution_count": 79
        }
      ]
    },
    {
      "cell_type": "code",
      "metadata": {
        "colab": {
          "base_uri": "https://localhost:8080/"
        },
        "id": "0dyj8NX8rTuu",
        "outputId": "714b1c64-cbd9-415d-90f4-71e4dbab2f7a"
      },
      "source": [
        "attention_mask = np.where(padded != 0, 1, 0)\n",
        "attention_mask.shape"
      ],
      "execution_count": null,
      "outputs": [
        {
          "output_type": "execute_result",
          "data": {
            "text/plain": [
              "(1676, 66)"
            ]
          },
          "metadata": {
            "tags": []
          },
          "execution_count": 80
        }
      ]
    },
    {
      "cell_type": "code",
      "metadata": {
        "id": "rSVab9bcrXSO"
      },
      "source": [
        "input_ids = torch.tensor(padded)\n",
        "attention_mask = torch.tensor(attention_mask)\n",
        "with torch.no_grad():\n",
        "    last_hidden_states = model(input_ids, attention_mask=attention_mask)"
      ],
      "execution_count": null,
      "outputs": []
    },
    {
      "cell_type": "code",
      "metadata": {
        "id": "FhlidbT_kvZt"
      },
      "source": [
        "features = last_hidden_states[0][:,0,:].numpy()"
      ],
      "execution_count": null,
      "outputs": []
    },
    {
      "cell_type": "code",
      "metadata": {
        "id": "G4P5AxcTkwzc"
      },
      "source": [
        "labels = batch1[1]"
      ],
      "execution_count": null,
      "outputs": []
    },
    {
      "cell_type": "code",
      "metadata": {
        "id": "F0xIGJDnk1OM"
      },
      "source": [
        "train_features, test_features, train_labels, test_labels = train_test_split(features, labels)"
      ],
      "execution_count": null,
      "outputs": []
    },
    {
      "cell_type": "code",
      "metadata": {
        "colab": {
          "base_uri": "https://localhost:8080/"
        },
        "id": "StXz4qv8k6X0",
        "outputId": "d85d70bd-a8f5-4c5a-89d4-3afdd641b4f6"
      },
      "source": [
        "lr_clf = LogisticRegression()\n",
        "lr_clf.fit(train_features, train_labels)"
      ],
      "execution_count": null,
      "outputs": [
        {
          "output_type": "execute_result",
          "data": {
            "text/plain": [
              "LogisticRegression(C=1.0, class_weight=None, dual=False, fit_intercept=True,\n",
              "                   intercept_scaling=1, l1_ratio=None, max_iter=100,\n",
              "                   multi_class='auto', n_jobs=None, penalty='l2',\n",
              "                   random_state=None, solver='lbfgs', tol=0.0001, verbose=0,\n",
              "                   warm_start=False)"
            ]
          },
          "metadata": {
            "tags": []
          },
          "execution_count": 85
        }
      ]
    },
    {
      "cell_type": "markdown",
      "metadata": {
        "id": "UVVp9TOFlHdV"
      },
      "source": [
        "Test size helps with modularity of this code."
      ]
    },
    {
      "cell_type": "code",
      "metadata": {
        "id": "STctQl43I6mD"
      },
      "source": [
        "testSize = len(test_labels)"
      ],
      "execution_count": null,
      "outputs": []
    },
    {
      "cell_type": "markdown",
      "metadata": {
        "id": "ZAJqlC47RKQK"
      },
      "source": [
        "# Ölçümler"
      ]
    },
    {
      "cell_type": "code",
      "metadata": {
        "id": "G5HL5B4CQi2B"
      },
      "source": [
        "predict = lr_clf.predict(test_features)"
      ],
      "execution_count": null,
      "outputs": []
    },
    {
      "cell_type": "code",
      "metadata": {
        "colab": {
          "base_uri": "https://localhost:8080/"
        },
        "id": "bB4WHea3Qxea",
        "outputId": "b6f40c6f-a998-45d3-c231-6e25cab8c191"
      },
      "source": [
        "from sklearn import metrics\n",
        "cm = metrics.confusion_matrix(test_labels, predict)\n",
        "print(cm)"
      ],
      "execution_count": null,
      "outputs": [
        {
          "output_type": "stream",
          "text": [
            "[[188  21]\n",
            " [ 33 177]]\n"
          ],
          "name": "stdout"
        }
      ]
    },
    {
      "cell_type": "code",
      "metadata": {
        "colab": {
          "base_uri": "https://localhost:8080/"
        },
        "id": "logsGkTkRIzI",
        "outputId": "f124b6ea-5276-4958-da08-0b0dcbf03b74"
      },
      "source": [
        "accuracy = (cm[0][0] + cm[1][1]) / len(test_labels)\n",
        "sensitivity = cm[0][0] / (cm[0][0] + cm[1][0])\n",
        "specifity = cm[1][1] / (cm[1][1] + cm[0][1])\n",
        "#Precision= True_Positive/ (True_Positive+ False_Positive)\n",
        "print(\"accuracy: \" + str(accuracy))\n",
        "print(\"sensitivity: \" + str(sensitivity))\n",
        "print(\"specifity: \" + str(specifity))"
      ],
      "execution_count": null,
      "outputs": [
        {
          "output_type": "stream",
          "text": [
            "accuracy: 0.8711217183770883\n",
            "sensitivity: 0.8506787330316742\n",
            "specifity: 0.8939393939393939\n"
          ],
          "name": "stdout"
        }
      ]
    },
    {
      "cell_type": "markdown",
      "metadata": {
        "id": "F0n3ds3vRNx7"
      },
      "source": [
        "# Duzeltmeme"
      ]
    },
    {
      "cell_type": "code",
      "metadata": {
        "colab": {
          "base_uri": "https://localhost:8080/"
        },
        "id": "qKu-wj1DAnaO",
        "outputId": "f8f4255c-6cc9-4fec-8858-9ef3313b7cd3"
      },
      "source": [
        "for key,value in test_labels[4-1:4].items():\n",
        "  print(value)"
      ],
      "execution_count": null,
      "outputs": [
        {
          "output_type": "stream",
          "text": [
            "0\n"
          ],
          "name": "stdout"
        }
      ]
    },
    {
      "cell_type": "code",
      "metadata": {
        "colab": {
          "base_uri": "https://localhost:8080/"
        },
        "id": "VhRJF6MEk-hr",
        "outputId": "4302c35c-2e43-4dfb-a5e2-5a9b0575122b"
      },
      "source": [
        "fp, fn, tp, tn = (0,0,0,0)\n",
        "value = 0\n",
        "\n",
        "#this for loop will run for all the test samples and produce\n",
        "#the confusion matrix for bert\n",
        "for i in range(1,testSize):\n",
        "  \n",
        "  #I had to use a for loop that runs ones just because pandas doesn't let me \n",
        "  #get the value of a pandas series item\n",
        "  for key,val in test_labels[i-1:i].items():\n",
        "    value = val\n",
        "  \n",
        "  #placing the right prediction detection on top improves \n",
        "  #the performance of the algorithm\n",
        "  #if the prediction was right\n",
        "  if(lr_clf.score(test_features[i-1:i], test_labels[i-1:i]) == 1.0):\n",
        "    if(val == 1):\n",
        "      tp+=1\n",
        "\n",
        "    elif(val == 0):\n",
        "      tn+=1\n",
        "\n",
        "  #if the prediction was wrong\n",
        "  if(lr_clf.score(test_features[i-1:i], test_labels[i-1:i]) <1):\n",
        "    if(val == 1):\n",
        "      fp+=1\n",
        "\n",
        "    elif(val == 0):\n",
        "      fn+=1\n",
        "  \n",
        "\n",
        "lr_clf.score(test_features, test_labels)\n",
        "print(tp+tn)"
      ],
      "execution_count": null,
      "outputs": [
        {
          "output_type": "stream",
          "text": [
            "365\n"
          ],
          "name": "stdout"
        }
      ]
    },
    {
      "cell_type": "markdown",
      "metadata": {
        "id": "FbbmnZE4Ujaf"
      },
      "source": [
        "![image.png](data:image/png;base64,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)"
      ]
    },
    {
      "cell_type": "markdown",
      "metadata": {
        "id": "Y-dUKlS6U9GH"
      },
      "source": [
        "![image.png](data:image/png;base64,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)"
      ]
    },
    {
      "cell_type": "code",
      "metadata": {
        "colab": {
          "base_uri": "https://localhost:8080/"
        },
        "id": "fpVgn2u-Vyjv",
        "outputId": "c9ee3cb6-56b5-477d-cb19-1195d6c05046"
      },
      "source": [
        "lr_clf.score(test_features, test_labels)"
      ],
      "execution_count": null,
      "outputs": [
        {
          "output_type": "execute_result",
          "data": {
            "text/plain": [
              "0.8711217183770883"
            ]
          },
          "metadata": {
            "tags": []
          },
          "execution_count": 92
        }
      ]
    },
    {
      "cell_type": "code",
      "metadata": {
        "colab": {
          "base_uri": "https://localhost:8080/"
        },
        "id": "uKgINXCPTX6V",
        "outputId": "b804a877-479b-44f1-b7ea-274a39502704"
      },
      "source": [
        "def accuracy(tp,tn,fp,fn):\n",
        "  return((tp+tn)/(tp+tn+fp+fn))\n",
        "def precision(tp,fp):\n",
        "  return (tp/(tp+fp))\n",
        "def recall(tp,fn):\n",
        "  return (tp/(tp+fn))\n",
        "def f1():\n",
        "  prec = precision(tp,fp)\n",
        "  rec = recall(tp,fn)\n",
        "  return(2*((prec*rec)/(prec+rec)))\n",
        "\n",
        "print(\"accuracy: \"+ str(accuracy(tp,tn,fp,fn)))\n",
        "print(\"precision: \"+ str(precision(tp,fp)))\n",
        "print(\"recall: \" + str(recall(tp,fn)))\n",
        "print(\"f1: \" + str(f1()))  "
      ],
      "execution_count": null,
      "outputs": [
        {
          "output_type": "stream",
          "text": [
            "accuracy: 0.8732057416267942\n",
            "precision: 0.8428571428571429\n",
            "recall: 0.8984771573604061\n",
            "f1: 0.8697788697788698\n"
          ],
          "name": "stdout"
        }
      ]
    },
    {
      "cell_type": "markdown",
      "metadata": {
        "id": "-49DRbOTqdN9"
      },
      "source": [
        "# Dummy classıfier ile alınan sonuçlar"
      ]
    },
    {
      "cell_type": "markdown",
      "metadata": {
        "id": "oCEr3BPCksi2"
      },
      "source": [
        "Basit bir dummy classifier ile karşilaştırınca aradaki fark ortaya çıkmakta."
      ]
    },
    {
      "cell_type": "code",
      "metadata": {
        "id": "l0c4ZTnGlCON",
        "colab": {
          "base_uri": "https://localhost:8080/"
        },
        "outputId": "48792dd6-bdd4-4aa6-8032-dc2f4164c893"
      },
      "source": [
        "from sklearn.dummy import DummyClassifier\n",
        "clf = DummyClassifier()\n",
        "\n",
        "scores = cross_val_score(clf, train_features, train_labels)\n",
        "print(\"Dummy classifier score: %0.3f (+/- %0.2f)\" % (scores.mean(), scores.std() * 2))"
      ],
      "execution_count": null,
      "outputs": [
        {
          "output_type": "stream",
          "text": [
            "Dummy classifier score: 0.508 (+/- 0.04)\n"
          ],
          "name": "stdout"
        }
      ]
    },
    {
      "cell_type": "markdown",
      "metadata": {
        "id": "9gPyQZgYTRQj"
      },
      "source": [
        ""
      ]
    },
    {
      "cell_type": "markdown",
      "metadata": {
        "id": "bja4YfnzqjUl"
      },
      "source": [
        "# Transformers kutuphanesinin sentiment analysis pipeline ı ile denedim"
      ]
    },
    {
      "cell_type": "code",
      "metadata": {
        "id": "-A3S2rmUTiEP"
      },
      "source": [
        "from transformers import pipeline\n",
        "classifier = pipeline('sentiment-analysis')\n",
        "\n"
      ],
      "execution_count": null,
      "outputs": []
    },
    {
      "cell_type": "code",
      "metadata": {
        "colab": {
          "base_uri": "https://localhost:8080/"
        },
        "id": "2fVo_XTnVT5X",
        "outputId": "717b47a7-29e8-4aa1-90c8-34f82679d702"
      },
      "source": [
        "for i in range(10):\n",
        "  print(str(classifier(batch1[0][i])[0]['label']) + \"|| \" + str(batch1[1][i]) + \"\\n\")"
      ],
      "execution_count": null,
      "outputs": [
        {
          "output_type": "stream",
          "text": [
            "POSITIVE|| 1\n",
            "\n",
            "NEGATIVE|| 0\n",
            "\n",
            "POSITIVE|| 1\n",
            "\n",
            "NEGATIVE|| 0\n",
            "\n",
            "POSITIVE|| 1\n",
            "\n",
            "POSITIVE|| 0\n",
            "\n",
            "POSITIVE|| 1\n",
            "\n",
            "NEGATIVE|| 0\n",
            "\n",
            "POSITIVE|| 1\n",
            "\n",
            "POSITIVE|| 0\n",
            "\n"
          ],
          "name": "stdout"
        }
      ]
    },
    {
      "cell_type": "code",
      "metadata": {
        "id": "5-ywSHGyVomz"
      },
      "source": [
        "pred = []\n",
        "for i in range(len(batch1[1])):\n",
        "  if(classifier(batch1[0][i])[0]['label'] == \"POSITIVE\"):\n",
        "     pred.append(1)\n",
        "  if(classifier(batch1[0][i])[0]['label'] == \"NEGATIVE\"):\n",
        "     pred.append(0)"
      ],
      "execution_count": null,
      "outputs": []
    },
    {
      "cell_type": "code",
      "metadata": {
        "id": "3hevnT8LWQ6g"
      },
      "source": [
        "labelsCM = []\n",
        "for i in range(len(batch1[1])):\n",
        "  labelsCM.append(int(batch1[1][i]))"
      ],
      "execution_count": null,
      "outputs": []
    },
    {
      "cell_type": "code",
      "metadata": {
        "colab": {
          "base_uri": "https://localhost:8080/"
        },
        "id": "algnK6xaW3Ro",
        "outputId": "5bf255e7-8a32-4166-c729-1da7a9d8fc34"
      },
      "source": [
        "from sklearn import metrics\n",
        "cm = metrics.confusion_matrix(labelsCM, pred)\n",
        "print(cm)"
      ],
      "execution_count": null,
      "outputs": [
        {
          "output_type": "stream",
          "text": [
            "[[764  74]\n",
            " [134 704]]\n"
          ],
          "name": "stdout"
        }
      ]
    },
    {
      "cell_type": "code",
      "metadata": {
        "colab": {
          "base_uri": "https://localhost:8080/"
        },
        "id": "Nmbd75FQXfy4",
        "outputId": "1cc49130-9b6b-4431-d4a8-9c1866f70bd1"
      },
      "source": [
        "accuracy = (cm[0][0] + cm[1][1]) / len(labelsCM)\n",
        "precision = cm[0][0] / (cm[0][0] + cm[0][1])\n",
        "#Recall= True_Positive/ (True_Positive+ False_Negative)\n",
        "recall = cm[0][0]/(cm[0][0] + cm[1][0])\n",
        "specifity = cm[1][1] / (cm[1][1] + cm[0][1])\n",
        "#Precision= True_Positive/ (True_Positive+ False_Positive)\n",
        "f1 = 2*((precision*recall)/(precision+recall))\n",
        "print(\"accuracy: \" + str(accuracy))\n",
        "print(\"sensitivity: \" + str(precision))\n",
        "print(\"specifity: \" + str(specifity))\n",
        "print(\"recall: \" + str(recall))\n",
        "print(\"f1: \" + str(f1))\n"
      ],
      "execution_count": null,
      "outputs": [
        {
          "output_type": "stream",
          "text": [
            "accuracy: 0.8758949880668258\n",
            "sensitivity: 0.9116945107398569\n",
            "specifity: 0.9048843187660668\n",
            "recall: 0.8507795100222717\n",
            "f1: 0.8801843317972351\n"
          ],
          "name": "stdout"
        }
      ]
    }
  ]
}